{
 "cells": [
  {
   "cell_type": "markdown",
   "id": "af387eb9",
   "metadata": {},
   "source": [
    "# Titanic\n",
    "\n",
    "<img src=\"input/Titanic.png\" width=\"500\"/>\n",
    "\n",
    "<br>\n",
    "\n",
    "Schritte:\n",
    "* Datenset laden\n",
    "* Erkunden\n",
    "* Vorverarbeitung\n",
    "* Visualisieren\n",
    "* Trainieren\n",
    "* Evaluierung"
   ]
  },
  {
   "cell_type": "markdown",
   "id": "241d0262",
   "metadata": {},
   "source": [
    "## 1. Datenset laden"
   ]
  },
  {
   "cell_type": "code",
   "execution_count": 1,
   "id": "9e147451",
   "metadata": {},
   "outputs": [],
   "source": [
    "import numpy as np\n",
    "import pandas as pd\n",
    "import seaborn as sns\n",
    "import matplotlib.pyplot as plt\n",
    "from sklearn.svm import SVC\n",
    "from sklearn.model_selection import train_test_split\n",
    "from sklearn.preprocessing import LabelEncoder\n",
    "from sklearn import metrics\n"
   ]
  },
  {
   "cell_type": "code",
   "execution_count": 2,
   "id": "4538ba1a",
   "metadata": {},
   "outputs": [],
   "source": [
    "titanic_data_raw = pd.read_csv('input/train.csv')"
   ]
  },
  {
   "cell_type": "code",
   "execution_count": 3,
   "id": "7b4ce906",
   "metadata": {},
   "outputs": [
    {
     "data": {
      "image/png": "[encoded data removed]",
      "text/plain": [
       "<Figure size 216x72 with 1 Axes>"
      ]
     },
     "metadata": {
      "needs_background": "light"
     },
     "output_type": "display_data"
    }
   ],
   "source": [
    "sns.set_palette(sns.color_palette([\"#05668d\", \"#8f2d56\", \"#679436\" ]))\n",
    "sns.palplot(sns.color_palette([\"#05668d\", \"#8f2d56\", \"#679436\" ]))"
   ]
  },
  {
   "cell_type": "markdown",
   "id": "f8f8263e",
   "metadata": {},
   "source": [
    "## 2. Erkunden"
   ]
  },
  {
   "cell_type": "markdown",
   "id": "056a1137",
   "metadata": {},
   "source": [
    "![](input/Titanic_Explained.png)\n",
    "Port of Embarkation = Abfahrtshafen\n",
    "\n",
    "Fare = in Pounds"
   ]
  },
  {
   "cell_type": "code",
   "execution_count": 4,
   "id": "63750b04",
   "metadata": {},
   "outputs": [
    {
     "data": {
      "text/html": [
       "<div>\n",
       "<style scoped>\n",
       "    .dataframe tbody tr th:only-of-type {\n",
       "        vertical-align: middle;\n",
       "    }\n",
       "\n",
       "    .dataframe tbody tr th {\n",
       "        vertical-align: top;\n",
       "    }\n",
       "\n",
       "    .dataframe thead th {\n",
       "        text-align: right;\n",
       "    }\n",
       "</style>\n",
       "<table border=\"1\" class=\"dataframe\">\n",
       "  <thead>\n",
       "    <tr style=\"text-align: right;\">\n",
       "      <th></th>\n",
       "      <th>PassengerId</th>\n",
       "      <th>Survived</th>\n",
       "      <th>Pclass</th>\n",
       "      <th>Name</th>\n",
       "      <th>Sex</th>\n",
       "      <th>Age</th>\n",
       "      <th>SibSp</th>\n",
       "      <th>Parch</th>\n",
       "      <th>Ticket</th>\n",
       "      <th>Fare</th>\n",
       "      <th>Cabin</th>\n",
       "      <th>Embarked</th>\n",
       "    </tr>\n",
       "  </thead>\n",
       "  <tbody>\n",
       "    <tr>\n",
       "      <th>33</th>\n",
       "      <td>34</td>\n",
       "      <td>0</td>\n",
       "      <td>2</td>\n",
       "      <td>Wheadon, Mr. Edward H</td>\n",
       "      <td>male</td>\n",
       "      <td>66.0</td>\n",
       "      <td>0</td>\n",
       "      <td>0</td>\n",
       "      <td>C.A. 24579</td>\n",
       "      <td>10.5000</td>\n",
       "      <td>NaN</td>\n",
       "      <td>S</td>\n",
       "    </tr>\n",
       "    <tr>\n",
       "      <th>317</th>\n",
       "      <td>318</td>\n",
       "      <td>0</td>\n",
       "      <td>2</td>\n",
       "      <td>Moraweck, Dr. Ernest</td>\n",
       "      <td>male</td>\n",
       "      <td>54.0</td>\n",
       "      <td>0</td>\n",
       "      <td>0</td>\n",
       "      <td>29011</td>\n",
       "      <td>14.0000</td>\n",
       "      <td>NaN</td>\n",
       "      <td>S</td>\n",
       "    </tr>\n",
       "    <tr>\n",
       "      <th>756</th>\n",
       "      <td>757</td>\n",
       "      <td>0</td>\n",
       "      <td>3</td>\n",
       "      <td>Carlsson, Mr. August Sigfrid</td>\n",
       "      <td>male</td>\n",
       "      <td>28.0</td>\n",
       "      <td>0</td>\n",
       "      <td>0</td>\n",
       "      <td>350042</td>\n",
       "      <td>7.7958</td>\n",
       "      <td>NaN</td>\n",
       "      <td>S</td>\n",
       "    </tr>\n",
       "    <tr>\n",
       "      <th>564</th>\n",
       "      <td>565</td>\n",
       "      <td>0</td>\n",
       "      <td>3</td>\n",
       "      <td>Meanwell, Miss. (Marion Ogden)</td>\n",
       "      <td>female</td>\n",
       "      <td>NaN</td>\n",
       "      <td>0</td>\n",
       "      <td>0</td>\n",
       "      <td>SOTON/O.Q. 392087</td>\n",
       "      <td>8.0500</td>\n",
       "      <td>NaN</td>\n",
       "      <td>S</td>\n",
       "    </tr>\n",
       "    <tr>\n",
       "      <th>53</th>\n",
       "      <td>54</td>\n",
       "      <td>1</td>\n",
       "      <td>2</td>\n",
       "      <td>Faunthorpe, Mrs. Lizzie (Elizabeth Anne Wilkin...</td>\n",
       "      <td>female</td>\n",
       "      <td>29.0</td>\n",
       "      <td>1</td>\n",
       "      <td>0</td>\n",
       "      <td>2926</td>\n",
       "      <td>26.0000</td>\n",
       "      <td>NaN</td>\n",
       "      <td>S</td>\n",
       "    </tr>\n",
       "    <tr>\n",
       "      <th>550</th>\n",
       "      <td>551</td>\n",
       "      <td>1</td>\n",
       "      <td>1</td>\n",
       "      <td>Thayer, Mr. John Borland Jr</td>\n",
       "      <td>male</td>\n",
       "      <td>17.0</td>\n",
       "      <td>0</td>\n",
       "      <td>2</td>\n",
       "      <td>17421</td>\n",
       "      <td>110.8833</td>\n",
       "      <td>C70</td>\n",
       "      <td>C</td>\n",
       "    </tr>\n",
       "    <tr>\n",
       "      <th>536</th>\n",
       "      <td>537</td>\n",
       "      <td>0</td>\n",
       "      <td>1</td>\n",
       "      <td>Butt, Major. Archibald Willingham</td>\n",
       "      <td>male</td>\n",
       "      <td>45.0</td>\n",
       "      <td>0</td>\n",
       "      <td>0</td>\n",
       "      <td>113050</td>\n",
       "      <td>26.5500</td>\n",
       "      <td>B38</td>\n",
       "      <td>S</td>\n",
       "    </tr>\n",
       "    <tr>\n",
       "      <th>804</th>\n",
       "      <td>805</td>\n",
       "      <td>1</td>\n",
       "      <td>3</td>\n",
       "      <td>Hedman, Mr. Oskar Arvid</td>\n",
       "      <td>male</td>\n",
       "      <td>27.0</td>\n",
       "      <td>0</td>\n",
       "      <td>0</td>\n",
       "      <td>347089</td>\n",
       "      <td>6.9750</td>\n",
       "      <td>NaN</td>\n",
       "      <td>S</td>\n",
       "    </tr>\n",
       "    <tr>\n",
       "      <th>310</th>\n",
       "      <td>311</td>\n",
       "      <td>1</td>\n",
       "      <td>1</td>\n",
       "      <td>Hays, Miss. Margaret Bechstein</td>\n",
       "      <td>female</td>\n",
       "      <td>24.0</td>\n",
       "      <td>0</td>\n",
       "      <td>0</td>\n",
       "      <td>11767</td>\n",
       "      <td>83.1583</td>\n",
       "      <td>C54</td>\n",
       "      <td>C</td>\n",
       "    </tr>\n",
       "    <tr>\n",
       "      <th>859</th>\n",
       "      <td>860</td>\n",
       "      <td>0</td>\n",
       "      <td>3</td>\n",
       "      <td>Razi, Mr. Raihed</td>\n",
       "      <td>male</td>\n",
       "      <td>NaN</td>\n",
       "      <td>0</td>\n",
       "      <td>0</td>\n",
       "      <td>2629</td>\n",
       "      <td>7.2292</td>\n",
       "      <td>NaN</td>\n",
       "      <td>C</td>\n",
       "    </tr>\n",
       "  </tbody>\n",
       "</table>\n",
       "</div>"
      ],
      "text/plain": [
       "     PassengerId  Survived  Pclass  \\\n",
       "33            34         0       2   \n",
       "317          318         0       2   \n",
       "756          757         0       3   \n",
       "564          565         0       3   \n",
       "53            54         1       2   \n",
       "550          551         1       1   \n",
       "536          537         0       1   \n",
       "804          805         1       3   \n",
       "310          311         1       1   \n",
       "859          860         0       3   \n",
       "\n",
       "                                                  Name     Sex   Age  SibSp  \\\n",
       "33                               Wheadon, Mr. Edward H    male  66.0      0   \n",
       "317                               Moraweck, Dr. Ernest    male  54.0      0   \n",
       "756                       Carlsson, Mr. August Sigfrid    male  28.0      0   \n",
       "564                     Meanwell, Miss. (Marion Ogden)  female   NaN      0   \n",
       "53   Faunthorpe, Mrs. Lizzie (Elizabeth Anne Wilkin...  female  29.0      1   \n",
       "550                        Thayer, Mr. John Borland Jr    male  17.0      0   \n",
       "536                  Butt, Major. Archibald Willingham    male  45.0      0   \n",
       "804                            Hedman, Mr. Oskar Arvid    male  27.0      0   \n",
       "310                     Hays, Miss. Margaret Bechstein  female  24.0      0   \n",
       "859                                   Razi, Mr. Raihed    male   NaN      0   \n",
       "\n",
       "     Parch             Ticket      Fare Cabin Embarked  \n",
       "33       0         C.A. 24579   10.5000   NaN        S  \n",
       "317      0              29011   14.0000   NaN        S  \n",
       "756      0             350042    7.7958   NaN        S  \n",
       "564      0  SOTON/O.Q. 392087    8.0500   NaN        S  \n",
       "53       0               2926   26.0000   NaN        S  \n",
       "550      2              17421  110.8833   C70        C  \n",
       "536      0             113050   26.5500   B38        S  \n",
       "804      0             347089    6.9750   NaN        S  \n",
       "310      0              11767   83.1583   C54        C  \n",
       "859      0               2629    7.2292   NaN        C  "
      ]
     },
     "execution_count": 4,
     "metadata": {},
     "output_type": "execute_result"
    }
   ],
   "source": [
    "titanic_data_raw.sample(10)"
   ]
  },
  {
   "cell_type": "code",
   "execution_count": 5,
   "id": "146500b5",
   "metadata": {},
   "outputs": [
    {
     "data": {
      "text/plain": [
       "Index(['PassengerId', 'Survived', 'Pclass', 'Name', 'Sex', 'Age', 'SibSp',\n",
       "       'Parch', 'Ticket', 'Fare', 'Cabin', 'Embarked'],\n",
       "      dtype='object')"
      ]
     },
     "execution_count": 5,
     "metadata": {},
     "output_type": "execute_result"
    }
   ],
   "source": [
    "titanic_data_raw.columns"
   ]
  },
  {
   "cell_type": "code",
   "execution_count": 6,
   "id": "0a775650",
   "metadata": {},
   "outputs": [
    {
     "data": {
      "text/plain": [
       "array([1, 0, 3, 4, 2, 5, 8])"
      ]
     },
     "execution_count": 6,
     "metadata": {},
     "output_type": "execute_result"
    }
   ],
   "source": [
    "titanic_data_raw['SibSp'].unique()"
   ]
  },
  {
   "cell_type": "code",
   "execution_count": 7,
   "id": "6cf24838",
   "metadata": {},
   "outputs": [
    {
     "data": {
      "text/plain": [
       "array([0, 1, 2, 5, 3, 4, 6])"
      ]
     },
     "execution_count": 7,
     "metadata": {},
     "output_type": "execute_result"
    }
   ],
   "source": [
    "titanic_data_raw['Parch'].unique()"
   ]
  },
  {
   "cell_type": "code",
   "execution_count": 8,
   "id": "419eba80",
   "metadata": {
    "scrolled": true
   },
   "outputs": [
    {
     "data": {
      "text/html": [
       "<div>\n",
       "<style scoped>\n",
       "    .dataframe tbody tr th:only-of-type {\n",
       "        vertical-align: middle;\n",
       "    }\n",
       "\n",
       "    .dataframe tbody tr th {\n",
       "        vertical-align: top;\n",
       "    }\n",
       "\n",
       "    .dataframe thead th {\n",
       "        text-align: right;\n",
       "    }\n",
       "</style>\n",
       "<table border=\"1\" class=\"dataframe\">\n",
       "  <thead>\n",
       "    <tr style=\"text-align: right;\">\n",
       "      <th></th>\n",
       "      <th>PassengerId</th>\n",
       "      <th>Survived</th>\n",
       "      <th>Pclass</th>\n",
       "      <th>Age</th>\n",
       "      <th>SibSp</th>\n",
       "      <th>Parch</th>\n",
       "      <th>Fare</th>\n",
       "    </tr>\n",
       "  </thead>\n",
       "  <tbody>\n",
       "    <tr>\n",
       "      <th>count</th>\n",
       "      <td>891.000000</td>\n",
       "      <td>891.000000</td>\n",
       "      <td>891.000000</td>\n",
       "      <td>714.000000</td>\n",
       "      <td>891.000000</td>\n",
       "      <td>891.000000</td>\n",
       "      <td>891.000000</td>\n",
       "    </tr>\n",
       "    <tr>\n",
       "      <th>mean</th>\n",
       "      <td>446.000000</td>\n",
       "      <td>0.383838</td>\n",
       "      <td>2.308642</td>\n",
       "      <td>29.699118</td>\n",
       "      <td>0.523008</td>\n",
       "      <td>0.381594</td>\n",
       "      <td>32.204208</td>\n",
       "    </tr>\n",
       "    <tr>\n",
       "      <th>std</th>\n",
       "      <td>257.353842</td>\n",
       "      <td>0.486592</td>\n",
       "      <td>0.836071</td>\n",
       "      <td>14.526497</td>\n",
       "      <td>1.102743</td>\n",
       "      <td>0.806057</td>\n",
       "      <td>49.693429</td>\n",
       "    </tr>\n",
       "    <tr>\n",
       "      <th>min</th>\n",
       "      <td>1.000000</td>\n",
       "      <td>0.000000</td>\n",
       "      <td>1.000000</td>\n",
       "      <td>0.420000</td>\n",
       "      <td>0.000000</td>\n",
       "      <td>0.000000</td>\n",
       "      <td>0.000000</td>\n",
       "    </tr>\n",
       "    <tr>\n",
       "      <th>25%</th>\n",
       "      <td>223.500000</td>\n",
       "      <td>0.000000</td>\n",
       "      <td>2.000000</td>\n",
       "      <td>20.125000</td>\n",
       "      <td>0.000000</td>\n",
       "      <td>0.000000</td>\n",
       "      <td>7.910400</td>\n",
       "    </tr>\n",
       "    <tr>\n",
       "      <th>50%</th>\n",
       "      <td>446.000000</td>\n",
       "      <td>0.000000</td>\n",
       "      <td>3.000000</td>\n",
       "      <td>28.000000</td>\n",
       "      <td>0.000000</td>\n",
       "      <td>0.000000</td>\n",
       "      <td>14.454200</td>\n",
       "    </tr>\n",
       "    <tr>\n",
       "      <th>75%</th>\n",
       "      <td>668.500000</td>\n",
       "      <td>1.000000</td>\n",
       "      <td>3.000000</td>\n",
       "      <td>38.000000</td>\n",
       "      <td>1.000000</td>\n",
       "      <td>0.000000</td>\n",
       "      <td>31.000000</td>\n",
       "    </tr>\n",
       "    <tr>\n",
       "      <th>max</th>\n",
       "      <td>891.000000</td>\n",
       "      <td>1.000000</td>\n",
       "      <td>3.000000</td>\n",
       "      <td>80.000000</td>\n",
       "      <td>8.000000</td>\n",
       "      <td>6.000000</td>\n",
       "      <td>512.329200</td>\n",
       "    </tr>\n",
       "  </tbody>\n",
       "</table>\n",
       "</div>"
      ],
      "text/plain": [
       "       PassengerId    Survived      Pclass         Age       SibSp  \\\n",
       "count   891.000000  891.000000  891.000000  714.000000  891.000000   \n",
       "mean    446.000000    0.383838    2.308642   29.699118    0.523008   \n",
       "std     257.353842    0.486592    0.836071   14.526497    1.102743   \n",
       "min       1.000000    0.000000    1.000000    0.420000    0.000000   \n",
       "25%     223.500000    0.000000    2.000000   20.125000    0.000000   \n",
       "50%     446.000000    0.000000    3.000000   28.000000    0.000000   \n",
       "75%     668.500000    1.000000    3.000000   38.000000    1.000000   \n",
       "max     891.000000    1.000000    3.000000   80.000000    8.000000   \n",
       "\n",
       "            Parch        Fare  \n",
       "count  891.000000  891.000000  \n",
       "mean     0.381594   32.204208  \n",
       "std      0.806057   49.693429  \n",
       "min      0.000000    0.000000  \n",
       "25%      0.000000    7.910400  \n",
       "50%      0.000000   14.454200  \n",
       "75%      0.000000   31.000000  \n",
       "max      6.000000  512.329200  "
      ]
     },
     "execution_count": 8,
     "metadata": {},
     "output_type": "execute_result"
    }
   ],
   "source": [
    "titanic_data_raw.describe()"
   ]
  },
  {
   "cell_type": "code",
   "execution_count": 9,
   "id": "93d8ed26",
   "metadata": {},
   "outputs": [
    {
     "data": {
      "text/plain": [
       "PassengerId      0\n",
       "Survived         0\n",
       "Pclass           0\n",
       "Name             0\n",
       "Sex              0\n",
       "Age            177\n",
       "SibSp            0\n",
       "Parch            0\n",
       "Ticket           0\n",
       "Fare             0\n",
       "Cabin          687\n",
       "Embarked         2\n",
       "dtype: int64"
      ]
     },
     "execution_count": 9,
     "metadata": {},
     "output_type": "execute_result"
    }
   ],
   "source": [
    "titanic_data_raw.isnull().sum()"
   ]
  },
  {
   "cell_type": "markdown",
   "id": "dc4cd21d",
   "metadata": {},
   "source": [
    "Idee: \n",
    "\n",
    "Embarked - Zeilen Drop\n",
    "\n",
    "Cabin - spalte drop, weil nur 1 Klassen eine Kabine haben und diese nur Id enthält, zusätzliche Spalte Cabin Booked\n",
    "\n",
    "Age - Interpalation\n",
    "\n",
    "Passanger Id - Spalte Drop weil es nicht relevant ist\n",
    "\n",
    "Name - Spalte Drop weil komplett unterschiedlich, nicht relevant wie viele Tims gestorben sind\n",
    "\n",
    "Ticket - Spalte Drop"
   ]
  },
  {
   "cell_type": "markdown",
   "id": "719fcef0",
   "metadata": {},
   "source": [
    "## 3. Vorvearbeitung"
   ]
  },
  {
   "cell_type": "markdown",
   "id": "f5dc2f96",
   "metadata": {},
   "source": [
    "### 3.1 Löschen von Null Werten"
   ]
  },
  {
   "cell_type": "code",
   "execution_count": 10,
   "id": "0be82091",
   "metadata": {},
   "outputs": [
    {
     "data": {
      "text/plain": [
       "Index(['PassengerId', 'Survived', 'Pclass', 'Name', 'Sex', 'Age', 'SibSp',\n",
       "       'Parch', 'Ticket', 'Fare', 'Cabin', 'Embarked'],\n",
       "      dtype='object')"
      ]
     },
     "execution_count": 10,
     "metadata": {},
     "output_type": "execute_result"
    }
   ],
   "source": [
    "titanic_data_raw.columns"
   ]
  },
  {
   "cell_type": "code",
   "execution_count": 11,
   "id": "a4339286",
   "metadata": {},
   "outputs": [],
   "source": [
    "titanic_data_raw.drop('PassengerId', axis=1, inplace=True)"
   ]
  },
  {
   "cell_type": "code",
   "execution_count": 12,
   "id": "9204d474",
   "metadata": {},
   "outputs": [],
   "source": [
    "titanic_data_raw.drop('Name', axis=1, inplace=True)"
   ]
  },
  {
   "cell_type": "code",
   "execution_count": 13,
   "id": "c45ebf56",
   "metadata": {},
   "outputs": [],
   "source": [
    "titanic_data_raw.drop('Ticket', axis=1, inplace=True)"
   ]
  },
  {
   "cell_type": "code",
   "execution_count": 14,
   "id": "376f4c12",
   "metadata": {},
   "outputs": [],
   "source": [
    "titanic_data_raw.dropna(axis=0, inplace=True, subset=['Embarked'])"
   ]
  },
  {
   "cell_type": "markdown",
   "id": "68398af3",
   "metadata": {},
   "source": [
    "### 3.2 Kabinen Spalte Bearbeiten\n",
    "In einem bool/int umwandeln\n",
    "\n",
    "1 = gebucht\n",
    "\n",
    "0 = nicht gebucht"
   ]
  },
  {
   "cell_type": "code",
   "execution_count": 15,
   "id": "94c85444",
   "metadata": {},
   "outputs": [],
   "source": [
    "titanic_data_raw[\"CabinBooked\"] = titanic_data_raw[\"Cabin\"].notnull().astype('int')"
   ]
  },
  {
   "cell_type": "code",
   "execution_count": 16,
   "id": "886621f0",
   "metadata": {},
   "outputs": [],
   "source": [
    "titanic_data_raw.drop('Cabin', axis=1, inplace=True)"
   ]
  },
  {
   "cell_type": "markdown",
   "id": "e0eb7ea6",
   "metadata": {},
   "source": [
    "### 3.3 Männlich Weiblich mit Ordinal Encoding\n",
    "\n",
    "0 = Frau\n",
    "\n",
    "1 = Mann"
   ]
  },
  {
   "cell_type": "code",
   "execution_count": 17,
   "id": "09bbb1b9",
   "metadata": {},
   "outputs": [],
   "source": [
    "from sklearn.preprocessing import OrdinalEncoder"
   ]
  },
  {
   "cell_type": "code",
   "execution_count": 18,
   "id": "bbc62317",
   "metadata": {},
   "outputs": [],
   "source": [
    "ordinal_encoder = OrdinalEncoder()\n",
    "titanic_data_raw[['Sex']] = ordinal_encoder.fit_transform(titanic_data_raw[['Sex']])"
   ]
  },
  {
   "cell_type": "code",
   "execution_count": 19,
   "id": "c7167bdf",
   "metadata": {},
   "outputs": [
    {
     "data": {
      "text/html": [
       "<div>\n",
       "<style scoped>\n",
       "    .dataframe tbody tr th:only-of-type {\n",
       "        vertical-align: middle;\n",
       "    }\n",
       "\n",
       "    .dataframe tbody tr th {\n",
       "        vertical-align: top;\n",
       "    }\n",
       "\n",
       "    .dataframe thead th {\n",
       "        text-align: right;\n",
       "    }\n",
       "</style>\n",
       "<table border=\"1\" class=\"dataframe\">\n",
       "  <thead>\n",
       "    <tr style=\"text-align: right;\">\n",
       "      <th></th>\n",
       "      <th>Survived</th>\n",
       "      <th>Pclass</th>\n",
       "      <th>Sex</th>\n",
       "      <th>Age</th>\n",
       "      <th>SibSp</th>\n",
       "      <th>Parch</th>\n",
       "      <th>Fare</th>\n",
       "      <th>Embarked</th>\n",
       "      <th>CabinBooked</th>\n",
       "    </tr>\n",
       "  </thead>\n",
       "  <tbody>\n",
       "    <tr>\n",
       "      <th>387</th>\n",
       "      <td>1</td>\n",
       "      <td>2</td>\n",
       "      <td>0.0</td>\n",
       "      <td>36.0</td>\n",
       "      <td>0</td>\n",
       "      <td>0</td>\n",
       "      <td>13.0000</td>\n",
       "      <td>S</td>\n",
       "      <td>0</td>\n",
       "    </tr>\n",
       "    <tr>\n",
       "      <th>259</th>\n",
       "      <td>1</td>\n",
       "      <td>2</td>\n",
       "      <td>0.0</td>\n",
       "      <td>50.0</td>\n",
       "      <td>0</td>\n",
       "      <td>1</td>\n",
       "      <td>26.0000</td>\n",
       "      <td>S</td>\n",
       "      <td>0</td>\n",
       "    </tr>\n",
       "    <tr>\n",
       "      <th>771</th>\n",
       "      <td>0</td>\n",
       "      <td>3</td>\n",
       "      <td>1.0</td>\n",
       "      <td>48.0</td>\n",
       "      <td>0</td>\n",
       "      <td>0</td>\n",
       "      <td>7.8542</td>\n",
       "      <td>S</td>\n",
       "      <td>0</td>\n",
       "    </tr>\n",
       "    <tr>\n",
       "      <th>208</th>\n",
       "      <td>1</td>\n",
       "      <td>3</td>\n",
       "      <td>0.0</td>\n",
       "      <td>16.0</td>\n",
       "      <td>0</td>\n",
       "      <td>0</td>\n",
       "      <td>7.7500</td>\n",
       "      <td>Q</td>\n",
       "      <td>0</td>\n",
       "    </tr>\n",
       "    <tr>\n",
       "      <th>683</th>\n",
       "      <td>0</td>\n",
       "      <td>3</td>\n",
       "      <td>1.0</td>\n",
       "      <td>14.0</td>\n",
       "      <td>5</td>\n",
       "      <td>2</td>\n",
       "      <td>46.9000</td>\n",
       "      <td>S</td>\n",
       "      <td>0</td>\n",
       "    </tr>\n",
       "    <tr>\n",
       "      <th>3</th>\n",
       "      <td>1</td>\n",
       "      <td>1</td>\n",
       "      <td>0.0</td>\n",
       "      <td>35.0</td>\n",
       "      <td>1</td>\n",
       "      <td>0</td>\n",
       "      <td>53.1000</td>\n",
       "      <td>S</td>\n",
       "      <td>1</td>\n",
       "    </tr>\n",
       "    <tr>\n",
       "      <th>677</th>\n",
       "      <td>1</td>\n",
       "      <td>3</td>\n",
       "      <td>0.0</td>\n",
       "      <td>18.0</td>\n",
       "      <td>0</td>\n",
       "      <td>0</td>\n",
       "      <td>9.8417</td>\n",
       "      <td>S</td>\n",
       "      <td>0</td>\n",
       "    </tr>\n",
       "    <tr>\n",
       "      <th>542</th>\n",
       "      <td>0</td>\n",
       "      <td>3</td>\n",
       "      <td>0.0</td>\n",
       "      <td>11.0</td>\n",
       "      <td>4</td>\n",
       "      <td>2</td>\n",
       "      <td>31.2750</td>\n",
       "      <td>S</td>\n",
       "      <td>0</td>\n",
       "    </tr>\n",
       "    <tr>\n",
       "      <th>532</th>\n",
       "      <td>0</td>\n",
       "      <td>3</td>\n",
       "      <td>1.0</td>\n",
       "      <td>17.0</td>\n",
       "      <td>1</td>\n",
       "      <td>1</td>\n",
       "      <td>7.2292</td>\n",
       "      <td>C</td>\n",
       "      <td>0</td>\n",
       "    </tr>\n",
       "    <tr>\n",
       "      <th>2</th>\n",
       "      <td>1</td>\n",
       "      <td>3</td>\n",
       "      <td>0.0</td>\n",
       "      <td>26.0</td>\n",
       "      <td>0</td>\n",
       "      <td>0</td>\n",
       "      <td>7.9250</td>\n",
       "      <td>S</td>\n",
       "      <td>0</td>\n",
       "    </tr>\n",
       "  </tbody>\n",
       "</table>\n",
       "</div>"
      ],
      "text/plain": [
       "     Survived  Pclass  Sex   Age  SibSp  Parch     Fare Embarked  CabinBooked\n",
       "387         1       2  0.0  36.0      0      0  13.0000        S            0\n",
       "259         1       2  0.0  50.0      0      1  26.0000        S            0\n",
       "771         0       3  1.0  48.0      0      0   7.8542        S            0\n",
       "208         1       3  0.0  16.0      0      0   7.7500        Q            0\n",
       "683         0       3  1.0  14.0      5      2  46.9000        S            0\n",
       "3           1       1  0.0  35.0      1      0  53.1000        S            1\n",
       "677         1       3  0.0  18.0      0      0   9.8417        S            0\n",
       "542         0       3  0.0  11.0      4      2  31.2750        S            0\n",
       "532         0       3  1.0  17.0      1      1   7.2292        C            0\n",
       "2           1       3  0.0  26.0      0      0   7.9250        S            0"
      ]
     },
     "execution_count": 19,
     "metadata": {},
     "output_type": "execute_result"
    }
   ],
   "source": [
    "titanic_data_raw.sample(10, random_state=1)"
   ]
  },
  {
   "cell_type": "markdown",
   "id": "c7a1d0e4",
   "metadata": {},
   "source": [
    "### 3.5 Hafen Nominal Encoding (One Hot Encoding)"
   ]
  },
  {
   "cell_type": "code",
   "execution_count": 20,
   "id": "8337e0fb",
   "metadata": {},
   "outputs": [],
   "source": [
    "from sklearn.preprocessing import OneHotEncoder"
   ]
  },
  {
   "cell_type": "code",
   "execution_count": 21,
   "id": "fc6980d7",
   "metadata": {},
   "outputs": [],
   "source": [
    "one_hot_encoder = OneHotEncoder(sparse=False)\n",
    "\n",
    "one_hot_raw = pd.DataFrame(one_hot_encoder.fit_transform(titanic_data_raw[['Embarked']]), columns=one_hot_encoder.get_feature_names_out())\n",
    "\n",
    "one_hot_raw.index = titanic_data_raw.index\n",
    "titanic_data_raw = pd.concat([titanic_data_raw, one_hot_raw], axis=1)\n",
    "titanic_data_raw.drop(['Embarked'], axis=1, inplace=True)"
   ]
  },
  {
   "cell_type": "code",
   "execution_count": 22,
   "id": "909bc2e1",
   "metadata": {},
   "outputs": [
    {
     "data": {
      "text/html": [
       "<div>\n",
       "<style scoped>\n",
       "    .dataframe tbody tr th:only-of-type {\n",
       "        vertical-align: middle;\n",
       "    }\n",
       "\n",
       "    .dataframe tbody tr th {\n",
       "        vertical-align: top;\n",
       "    }\n",
       "\n",
       "    .dataframe thead th {\n",
       "        text-align: right;\n",
       "    }\n",
       "</style>\n",
       "<table border=\"1\" class=\"dataframe\">\n",
       "  <thead>\n",
       "    <tr style=\"text-align: right;\">\n",
       "      <th></th>\n",
       "      <th>Survived</th>\n",
       "      <th>Pclass</th>\n",
       "      <th>Sex</th>\n",
       "      <th>Age</th>\n",
       "      <th>SibSp</th>\n",
       "      <th>Parch</th>\n",
       "      <th>Fare</th>\n",
       "      <th>CabinBooked</th>\n",
       "      <th>Embarked_C</th>\n",
       "      <th>Embarked_Q</th>\n",
       "      <th>Embarked_S</th>\n",
       "    </tr>\n",
       "  </thead>\n",
       "  <tbody>\n",
       "    <tr>\n",
       "      <th>0</th>\n",
       "      <td>0</td>\n",
       "      <td>3</td>\n",
       "      <td>1.0</td>\n",
       "      <td>22.0</td>\n",
       "      <td>1</td>\n",
       "      <td>0</td>\n",
       "      <td>7.2500</td>\n",
       "      <td>0</td>\n",
       "      <td>0.0</td>\n",
       "      <td>0.0</td>\n",
       "      <td>1.0</td>\n",
       "    </tr>\n",
       "    <tr>\n",
       "      <th>1</th>\n",
       "      <td>1</td>\n",
       "      <td>1</td>\n",
       "      <td>0.0</td>\n",
       "      <td>38.0</td>\n",
       "      <td>1</td>\n",
       "      <td>0</td>\n",
       "      <td>71.2833</td>\n",
       "      <td>1</td>\n",
       "      <td>1.0</td>\n",
       "      <td>0.0</td>\n",
       "      <td>0.0</td>\n",
       "    </tr>\n",
       "    <tr>\n",
       "      <th>2</th>\n",
       "      <td>1</td>\n",
       "      <td>3</td>\n",
       "      <td>0.0</td>\n",
       "      <td>26.0</td>\n",
       "      <td>0</td>\n",
       "      <td>0</td>\n",
       "      <td>7.9250</td>\n",
       "      <td>0</td>\n",
       "      <td>0.0</td>\n",
       "      <td>0.0</td>\n",
       "      <td>1.0</td>\n",
       "    </tr>\n",
       "    <tr>\n",
       "      <th>3</th>\n",
       "      <td>1</td>\n",
       "      <td>1</td>\n",
       "      <td>0.0</td>\n",
       "      <td>35.0</td>\n",
       "      <td>1</td>\n",
       "      <td>0</td>\n",
       "      <td>53.1000</td>\n",
       "      <td>1</td>\n",
       "      <td>0.0</td>\n",
       "      <td>0.0</td>\n",
       "      <td>1.0</td>\n",
       "    </tr>\n",
       "    <tr>\n",
       "      <th>4</th>\n",
       "      <td>0</td>\n",
       "      <td>3</td>\n",
       "      <td>1.0</td>\n",
       "      <td>35.0</td>\n",
       "      <td>0</td>\n",
       "      <td>0</td>\n",
       "      <td>8.0500</td>\n",
       "      <td>0</td>\n",
       "      <td>0.0</td>\n",
       "      <td>0.0</td>\n",
       "      <td>1.0</td>\n",
       "    </tr>\n",
       "    <tr>\n",
       "      <th>5</th>\n",
       "      <td>0</td>\n",
       "      <td>3</td>\n",
       "      <td>1.0</td>\n",
       "      <td>NaN</td>\n",
       "      <td>0</td>\n",
       "      <td>0</td>\n",
       "      <td>8.4583</td>\n",
       "      <td>0</td>\n",
       "      <td>0.0</td>\n",
       "      <td>1.0</td>\n",
       "      <td>0.0</td>\n",
       "    </tr>\n",
       "    <tr>\n",
       "      <th>6</th>\n",
       "      <td>0</td>\n",
       "      <td>1</td>\n",
       "      <td>1.0</td>\n",
       "      <td>54.0</td>\n",
       "      <td>0</td>\n",
       "      <td>0</td>\n",
       "      <td>51.8625</td>\n",
       "      <td>1</td>\n",
       "      <td>0.0</td>\n",
       "      <td>0.0</td>\n",
       "      <td>1.0</td>\n",
       "    </tr>\n",
       "    <tr>\n",
       "      <th>7</th>\n",
       "      <td>0</td>\n",
       "      <td>3</td>\n",
       "      <td>1.0</td>\n",
       "      <td>2.0</td>\n",
       "      <td>3</td>\n",
       "      <td>1</td>\n",
       "      <td>21.0750</td>\n",
       "      <td>0</td>\n",
       "      <td>0.0</td>\n",
       "      <td>0.0</td>\n",
       "      <td>1.0</td>\n",
       "    </tr>\n",
       "    <tr>\n",
       "      <th>8</th>\n",
       "      <td>1</td>\n",
       "      <td>3</td>\n",
       "      <td>0.0</td>\n",
       "      <td>27.0</td>\n",
       "      <td>0</td>\n",
       "      <td>2</td>\n",
       "      <td>11.1333</td>\n",
       "      <td>0</td>\n",
       "      <td>0.0</td>\n",
       "      <td>0.0</td>\n",
       "      <td>1.0</td>\n",
       "    </tr>\n",
       "    <tr>\n",
       "      <th>9</th>\n",
       "      <td>1</td>\n",
       "      <td>2</td>\n",
       "      <td>0.0</td>\n",
       "      <td>14.0</td>\n",
       "      <td>1</td>\n",
       "      <td>0</td>\n",
       "      <td>30.0708</td>\n",
       "      <td>0</td>\n",
       "      <td>1.0</td>\n",
       "      <td>0.0</td>\n",
       "      <td>0.0</td>\n",
       "    </tr>\n",
       "  </tbody>\n",
       "</table>\n",
       "</div>"
      ],
      "text/plain": [
       "   Survived  Pclass  Sex   Age  SibSp  Parch     Fare  CabinBooked  \\\n",
       "0         0       3  1.0  22.0      1      0   7.2500            0   \n",
       "1         1       1  0.0  38.0      1      0  71.2833            1   \n",
       "2         1       3  0.0  26.0      0      0   7.9250            0   \n",
       "3         1       1  0.0  35.0      1      0  53.1000            1   \n",
       "4         0       3  1.0  35.0      0      0   8.0500            0   \n",
       "5         0       3  1.0   NaN      0      0   8.4583            0   \n",
       "6         0       1  1.0  54.0      0      0  51.8625            1   \n",
       "7         0       3  1.0   2.0      3      1  21.0750            0   \n",
       "8         1       3  0.0  27.0      0      2  11.1333            0   \n",
       "9         1       2  0.0  14.0      1      0  30.0708            0   \n",
       "\n",
       "   Embarked_C  Embarked_Q  Embarked_S  \n",
       "0         0.0         0.0         1.0  \n",
       "1         1.0         0.0         0.0  \n",
       "2         0.0         0.0         1.0  \n",
       "3         0.0         0.0         1.0  \n",
       "4         0.0         0.0         1.0  \n",
       "5         0.0         1.0         0.0  \n",
       "6         0.0         0.0         1.0  \n",
       "7         0.0         0.0         1.0  \n",
       "8         0.0         0.0         1.0  \n",
       "9         1.0         0.0         0.0  "
      ]
     },
     "execution_count": 22,
     "metadata": {},
     "output_type": "execute_result"
    }
   ],
   "source": [
    "titanic_data_raw.head(10)"
   ]
  },
  {
   "cell_type": "markdown",
   "id": "5dd7e533",
   "metadata": {},
   "source": [
    "### 3.6 Alter Imputieren"
   ]
  },
  {
   "cell_type": "code",
   "execution_count": 23,
   "id": "3ea00fa5",
   "metadata": {},
   "outputs": [],
   "source": [
    "from sklearn.impute import SimpleImputer"
   ]
  },
  {
   "cell_type": "code",
   "execution_count": 24,
   "id": "cb853dfb",
   "metadata": {},
   "outputs": [],
   "source": [
    "simple_imputer = SimpleImputer(strategy='mean')\n",
    "\n",
    "titanic_data_raw[['Age']] = simple_imputer.fit_transform(titanic_data_raw[['Age']])"
   ]
  },
  {
   "cell_type": "code",
   "execution_count": 25,
   "id": "931b9ba8",
   "metadata": {},
   "outputs": [
    {
     "data": {
      "text/plain": [
       "Survived       0\n",
       "Pclass         0\n",
       "Sex            0\n",
       "Age            0\n",
       "SibSp          0\n",
       "Parch          0\n",
       "Fare           0\n",
       "CabinBooked    0\n",
       "Embarked_C     0\n",
       "Embarked_Q     0\n",
       "Embarked_S     0\n",
       "dtype: int64"
      ]
     },
     "execution_count": 25,
     "metadata": {},
     "output_type": "execute_result"
    }
   ],
   "source": [
    "titanic_data_raw.isnull().sum()"
   ]
  },
  {
   "cell_type": "markdown",
   "id": "fd4dc205",
   "metadata": {},
   "source": [
    "### 3.7 Train Test Validation Split "
   ]
  },
  {
   "cell_type": "code",
   "execution_count": 26,
   "id": "95990d80",
   "metadata": {},
   "outputs": [],
   "source": [
    "my_test_and_val_size = 0.3\n",
    "my_random_state = 10\n",
    "\n",
    "X = titanic_data_raw[titanic_data_raw.columns[1:]]\n",
    "y = titanic_data_raw['Survived']\n",
    "\n",
    "X_train, X_test_full, y_train, y_test_full = train_test_split(X, y,random_state=my_random_state, test_size=my_test_and_val_size, stratify=y)\n",
    "X_val, X_test, y_val, y_test = train_test_split(X_test_full, y_test_full, random_state=my_random_state, test_size=0.5,  stratify=y_test_full)"
   ]
  },
  {
   "cell_type": "code",
   "execution_count": 27,
   "id": "c6911510",
   "metadata": {},
   "outputs": [
    {
     "data": {
      "text/plain": [
       "array([<AxesSubplot:ylabel='0'>], dtype=object)"
      ]
     },
     "execution_count": 27,
     "metadata": {},
     "output_type": "execute_result"
    },
    {
     "data": {
      "image/png": "[encoded data removed]",
      "text/plain": [
       "<Figure size 432x288 with 1 Axes>"
      ]
     },
     "metadata": {},
     "output_type": "display_data"
    }
   ],
   "source": [
    "pd.DataFrame([len(y_train), len(y_val), len(y_test)], index=['train','validation', 'test']).plot(kind='pie', subplots=True)"
   ]
  },
  {
   "cell_type": "code",
   "execution_count": 28,
   "id": "c5357ff0",
   "metadata": {},
   "outputs": [
    {
     "data": {
      "text/plain": [
       "<AxesSubplot:title={'center':'test'}, ylabel='Survived'>"
      ]
     },
     "execution_count": 28,
     "metadata": {},
     "output_type": "execute_result"
    },
    {
     "data": {
      "image/png": "[encoded data removed]",
      "text/plain": [
       "<Figure size 864x432 with 3 Axes>"
      ]
     },
     "metadata": {},
     "output_type": "display_data"
    }
   ],
   "source": [
    "fig, (ax1, ax2, ax3) = plt.subplots(1, 3, figsize=(12,6))\n",
    "y_train.value_counts().plot(kind='pie', ax=ax1, title='train')\n",
    "y_val.value_counts().plot(kind='pie', ax=ax2, title='val')\n",
    "y_test.value_counts().plot(kind='pie', ax=ax3, title='test')"
   ]
  },
  {
   "cell_type": "markdown",
   "id": "6c4c8019",
   "metadata": {},
   "source": [
    "## 4. Visualisieren\n",
    "### 4.1 Überlebende"
   ]
  },
  {
   "cell_type": "code",
   "execution_count": 29,
   "id": "55b123cc",
   "metadata": {},
   "outputs": [
    {
     "data": {
      "text/plain": [
       "0    549\n",
       "1    340\n",
       "Name: Survived, dtype: int64"
      ]
     },
     "execution_count": 29,
     "metadata": {},
     "output_type": "execute_result"
    }
   ],
   "source": [
    "titanic_data_raw['Survived'].value_counts()"
   ]
  },
  {
   "cell_type": "code",
   "execution_count": 30,
   "id": "20b9489a",
   "metadata": {
    "scrolled": true
   },
   "outputs": [
    {
     "data": {
      "text/plain": [
       "<AxesSubplot:ylabel='Survived'>"
      ]
     },
     "execution_count": 30,
     "metadata": {},
     "output_type": "execute_result"
    },
    {
     "data": {
      "image/png": "[encoded data removed]",
      "text/plain": [
       "<Figure size 432x288 with 1 Axes>"
      ]
     },
     "metadata": {},
     "output_type": "display_data"
    }
   ],
   "source": [
    "titanic_data_raw['Survived'].value_counts().plot(kind='pie',  autopct=\"%1.1f%%\")"
   ]
  },
  {
   "cell_type": "markdown",
   "id": "dafd0f24",
   "metadata": {},
   "source": [
    "### 4.2 \"Frauen und Kinder zuerst\"\n",
    "1.0 = Männlich\n",
    "\n",
    "0.0 = Weiblich"
   ]
  },
  {
   "cell_type": "code",
   "execution_count": 31,
   "id": "31f9d7c1",
   "metadata": {},
   "outputs": [
    {
     "data": {
      "text/plain": [
       "1.0    577\n",
       "0.0    312\n",
       "Name: Sex, dtype: int64"
      ]
     },
     "execution_count": 31,
     "metadata": {},
     "output_type": "execute_result"
    }
   ],
   "source": [
    "titanic_data_raw['Sex'].value_counts()"
   ]
  },
  {
   "cell_type": "code",
   "execution_count": 32,
   "id": "bc18752f",
   "metadata": {},
   "outputs": [],
   "source": [
    "survived_map = {0:'Dead', 1:'Survived'}\n",
    "sex_map = {0:'Female', 1:'Male'}\n",
    "\n",
    "\n",
    "titanic_copy=titanic_data_raw.copy()\n",
    "titanic_copy['Survived'] = titanic_copy['Survived'].map(survived_map).astype(str)\n",
    "titanic_copy['Sex'] = titanic_copy['Sex'].map(sex_map).astype(str)\n"
   ]
  },
  {
   "cell_type": "code",
   "execution_count": 33,
   "id": "7e1f78d8",
   "metadata": {},
   "outputs": [
    {
     "data": {
      "image/png": "[encoded data removed]",
      "text/plain": [
       "<Figure size 864x288 with 2 Axes>"
      ]
     },
     "metadata": {
      "needs_background": "light"
     },
     "output_type": "display_data"
    }
   ],
   "source": [
    "f, ax = plt.subplots(1, 2, figsize=(12, 4))\n",
    "\n",
    "titanic_data_raw[['Sex', 'Survived']].groupby(['Sex']).mean().plot.bar(ax=ax[0])\n",
    "ax[0].set_title('Survivors by sex')\n",
    "\n",
    "sns.countplot(x='Sex', hue='Survived', data=titanic_copy, ax=ax[1])\n",
    "\n",
    "ax[1].set_ylabel('Count')\n",
    "ax[1].set_title('0 = Survived, 1= Dead')\n",
    "\n",
    "plt.show()"
   ]
  },
  {
   "cell_type": "markdown",
   "id": "8bc420bf",
   "metadata": {},
   "source": [
    "### 4.3 Korrelation"
   ]
  },
  {
   "cell_type": "code",
   "execution_count": 34,
   "id": "0cd33d78",
   "metadata": {},
   "outputs": [],
   "source": [
    "import seaborn as sns"
   ]
  },
  {
   "cell_type": "code",
   "execution_count": 35,
   "id": "3c42a1d2",
   "metadata": {},
   "outputs": [
    {
     "data": {
      "text/plain": [
       "<AxesSubplot:>"
      ]
     },
     "execution_count": 35,
     "metadata": {},
     "output_type": "execute_result"
    },
    {
     "data": {
      "image/png": "[encoded data removed]",
      "text/plain": [
       "<Figure size 432x288 with 2 Axes>"
      ]
     },
     "metadata": {
      "needs_background": "light"
     },
     "output_type": "display_data"
    }
   ],
   "source": [
    "sns.heatmap(titanic_data_raw.corr(), annot=True)"
   ]
  },
  {
   "cell_type": "code",
   "execution_count": 36,
   "id": "40ab3851",
   "metadata": {},
   "outputs": [
    {
     "data": {
      "text/plain": [
       "<AxesSubplot:xlabel='Pclass', ylabel='Age'>"
      ]
     },
     "execution_count": 36,
     "metadata": {},
     "output_type": "execute_result"
    },
    {
     "data": {
      "image/png": "[encoded data removed]",
      "text/plain": [
       "<Figure size 432x288 with 1 Axes>"
      ]
     },
     "metadata": {
      "needs_background": "light"
     },
     "output_type": "display_data"
    }
   ],
   "source": [
    "sns.violinplot(data=titanic_data_raw, x=\"Pclass\", y=\"Age\", size=4)"
   ]
  },
  {
   "cell_type": "code",
   "execution_count": 37,
   "id": "80df1fd5",
   "metadata": {},
   "outputs": [
    {
     "data": {
      "text/plain": [
       "3    491\n",
       "1    214\n",
       "2    184\n",
       "Name: Pclass, dtype: int64"
      ]
     },
     "execution_count": 37,
     "metadata": {},
     "output_type": "execute_result"
    }
   ],
   "source": [
    "titanic_data_raw['Pclass'].value_counts()"
   ]
  },
  {
   "cell_type": "code",
   "execution_count": 38,
   "id": "a1d16c51",
   "metadata": {},
   "outputs": [
    {
     "data": {
      "image/png": "[encoded data removed]",
      "text/plain": [
       "<Figure size 864x288 with 2 Axes>"
      ]
     },
     "metadata": {
      "needs_background": "light"
     },
     "output_type": "display_data"
    }
   ],
   "source": [
    "f, ax = plt.subplots(1, 2, figsize=(12, 4))\n",
    "titanic_data_raw[['Pclass', 'Survived']].groupby(['Pclass']).mean().plot.bar(ax=ax[0])\n",
    "sns.countplot(x='Pclass', hue='Survived', data=titanic_copy, ax=ax[1])\n",
    "plt.show()"
   ]
  },
  {
   "cell_type": "code",
   "execution_count": 39,
   "id": "231fe132",
   "metadata": {
    "scrolled": true
   },
   "outputs": [
    {
     "data": {
      "text/plain": [
       "<AxesSubplot:xlabel='Age', ylabel='Survived'>"
      ]
     },
     "execution_count": 39,
     "metadata": {},
     "output_type": "execute_result"
    },
    {
     "data": {
      "image/png": "[encoded data removed]",
      "text/plain": [
       "<Figure size 432x288 with 1 Axes>"
      ]
     },
     "metadata": {
      "needs_background": "light"
     },
     "output_type": "display_data"
    }
   ],
   "source": [
    "survived_map = {0:'Dead', 1:'Survived'}\n",
    "\n",
    "titanic_copy=titanic_data_raw.copy()\n",
    "titanic_copy['Survived'] = titanic_copy['Survived'].map(survived_map).astype(str)\n",
    "\n",
    "sns.boxplot(data=titanic_copy, x=\"Age\", y=\"Survived\")"
   ]
  },
  {
   "cell_type": "code",
   "execution_count": 40,
   "id": "2a86e3c1",
   "metadata": {},
   "outputs": [
    {
     "data": {
      "text/plain": [
       "<AxesSubplot:xlabel='Pclass', ylabel='Fare'>"
      ]
     },
     "execution_count": 40,
     "metadata": {},
     "output_type": "execute_result"
    },
    {
     "data": {
      "image/png": "[encoded data removed]",
      "text/plain": [
       "<Figure size 432x288 with 1 Axes>"
      ]
     },
     "metadata": {
      "needs_background": "light"
     },
     "output_type": "display_data"
    }
   ],
   "source": [
    "sns.stripplot(data=titanic_data_raw, x=\"Pclass\", y=\"Fare\")"
   ]
  },
  {
   "cell_type": "markdown",
   "id": "b27c363c",
   "metadata": {},
   "source": [
    "## 5. Trainieren"
   ]
  },
  {
   "cell_type": "code",
   "execution_count": 41,
   "id": "d06caae5",
   "metadata": {},
   "outputs": [
    {
     "data": {
      "text/plain": [
       "0    384\n",
       "1    238\n",
       "Name: Survived, dtype: int64"
      ]
     },
     "execution_count": 41,
     "metadata": {},
     "output_type": "execute_result"
    }
   ],
   "source": [
    "y_train.value_counts()"
   ]
  },
  {
   "cell_type": "code",
   "execution_count": 42,
   "id": "7af02151",
   "metadata": {},
   "outputs": [
    {
     "data": {
      "text/plain": [
       "0    83\n",
       "1    51\n",
       "Name: Survived, dtype: int64"
      ]
     },
     "execution_count": 42,
     "metadata": {},
     "output_type": "execute_result"
    }
   ],
   "source": [
    "y_test.value_counts()"
   ]
  },
  {
   "cell_type": "code",
   "execution_count": 43,
   "id": "58eeae79",
   "metadata": {},
   "outputs": [
    {
     "data": {
      "text/plain": [
       "0    82\n",
       "1    51\n",
       "Name: Survived, dtype: int64"
      ]
     },
     "execution_count": 43,
     "metadata": {},
     "output_type": "execute_result"
    }
   ],
   "source": [
    "y_val.value_counts()"
   ]
  },
  {
   "cell_type": "markdown",
   "id": "f393cb55",
   "metadata": {},
   "source": [
    "### 5.1 Baseline"
   ]
  },
  {
   "cell_type": "code",
   "execution_count": 44,
   "id": "8dcbe6ba",
   "metadata": {},
   "outputs": [],
   "source": [
    "from sklearn.dummy import DummyClassifier"
   ]
  },
  {
   "cell_type": "code",
   "execution_count": 45,
   "id": "21e632df",
   "metadata": {},
   "outputs": [
    {
     "name": "stdout",
     "output_type": "stream",
     "text": [
      "Accuracy: 61.94%\n"
     ]
    }
   ],
   "source": [
    "dummy_model = DummyClassifier(strategy='most_frequent')\n",
    "dummy_model.fit(X_train, y_train)\n",
    "y_pred = dummy_model.predict(X_test)\n",
    "accuracy_score = metrics.accuracy_score(y_test, y_pred)\n",
    "print('Accuracy: {:.2%}'.format(accuracy_score))"
   ]
  },
  {
   "cell_type": "markdown",
   "id": "2cff745c",
   "metadata": {},
   "source": [
    "### 5.2 Decision Tree"
   ]
  },
  {
   "cell_type": "code",
   "execution_count": 46,
   "id": "1974f975",
   "metadata": {},
   "outputs": [],
   "source": [
    "from sklearn.tree import DecisionTreeClassifier\n",
    "from sklearn import metrics"
   ]
  },
  {
   "cell_type": "code",
   "execution_count": 47,
   "id": "e8cb86d8",
   "metadata": {},
   "outputs": [],
   "source": [
    "def train_and_find_best_depth(X_train, X_val, y_train, y_val, do_print):\n",
    "    result = None\n",
    "    accuracy_max = -1\n",
    "    for curr_max_depth in range(1, 10):\n",
    "        dt_model = DecisionTreeClassifier(max_depth=curr_max_depth, random_state=my_random_state)\n",
    "        dt_model.fit(X_train, y_train)\n",
    "        y_pred = dt_model.predict(X_val)\n",
    "        accuracy_score = metrics.accuracy_score(y_val, y_pred)\n",
    "        \n",
    "        if accuracy_score >= accuracy_max:\n",
    "            accuracy_max = accuracy_score\n",
    "            result = curr_max_depth\n",
    "        if do_print:\n",
    "            print('max depth {}: {:.2%} accuracy on validation set.'.format(curr_max_depth, accuracy_score))\n",
    "        if do_print:\n",
    "            print('-' * 20)\n",
    "            print('best max depth {} has {:.2%} accuracy.'.format(result,accuracy_max))\n",
    "    return result"
   ]
  },
  {
   "cell_type": "code",
   "execution_count": 48,
   "id": "de23cfe4",
   "metadata": {},
   "outputs": [
    {
     "name": "stdout",
     "output_type": "stream",
     "text": [
      "max depth 1: 77.44% accuracy on validation set.\n",
      "--------------------\n",
      "best max depth 1 has 77.44% accuracy.\n",
      "max depth 2: 75.19% accuracy on validation set.\n",
      "--------------------\n",
      "best max depth 1 has 77.44% accuracy.\n",
      "max depth 3: 79.70% accuracy on validation set.\n",
      "--------------------\n",
      "best max depth 3 has 79.70% accuracy.\n",
      "max depth 4: 80.45% accuracy on validation set.\n",
      "--------------------\n",
      "best max depth 4 has 80.45% accuracy.\n",
      "max depth 5: 79.70% accuracy on validation set.\n",
      "--------------------\n",
      "best max depth 4 has 80.45% accuracy.\n",
      "max depth 6: 80.45% accuracy on validation set.\n",
      "--------------------\n",
      "best max depth 6 has 80.45% accuracy.\n",
      "max depth 7: 77.44% accuracy on validation set.\n",
      "--------------------\n",
      "best max depth 6 has 80.45% accuracy.\n",
      "max depth 8: 77.44% accuracy on validation set.\n",
      "--------------------\n",
      "best max depth 6 has 80.45% accuracy.\n",
      "max depth 9: 78.95% accuracy on validation set.\n",
      "--------------------\n",
      "best max depth 6 has 80.45% accuracy.\n"
     ]
    }
   ],
   "source": [
    "best_max_depth = train_and_find_best_depth(X_train,X_val, y_train, y_val, True)"
   ]
  },
  {
   "cell_type": "code",
   "execution_count": 49,
   "id": "5789aac3",
   "metadata": {},
   "outputs": [
    {
     "name": "stdout",
     "output_type": "stream",
     "text": [
      "Accuracy: 80.45%\n",
      "Precision: 74.51%\n",
      "Recall: 74.51%\n",
      "F1: 74.51%\n"
     ]
    }
   ],
   "source": [
    "dt_model = DecisionTreeClassifier(max_depth=6)\n",
    "dt_model.fit(X_train, y_train)\n",
    "\n",
    "y_pred = dt_model.predict(X_val)\n",
    "\n",
    "accuracy_score = metrics.accuracy_score(y_val, y_pred)\n",
    "print('Accuracy: {:.2%}'.format(accuracy_score))\n",
    "print('Precision: {:.2%}'.format(metrics.precision_score(y_val, y_pred)))\n",
    "print('Recall: {:.2%}'.format(metrics.recall_score(y_val, y_pred)))\n",
    "print('F1: {:.2%}'.format(metrics.f1_score(y_val, y_pred)))"
   ]
  },
  {
   "cell_type": "code",
   "execution_count": 50,
   "id": "e15e3a7e",
   "metadata": {},
   "outputs": [
    {
     "name": "stdout",
     "output_type": "stream",
     "text": [
      "|--- Sex <= 0.50\n",
      "|   |--- Pclass <= 2.50\n",
      "|   |   |--- Age <= 2.50\n",
      "|   |   |   |--- CabinBooked <= 0.50\n",
      "|   |   |   |   |--- class: 1\n",
      "|   |   |   |--- CabinBooked >  0.50\n",
      "|   |   |   |   |--- class: 0\n",
      "|   |   |--- Age >  2.50\n",
      "|   |   |   |--- Fare <= 13.43\n",
      "|   |   |   |   |--- Age <= 26.00\n",
      "|   |   |   |   |   |--- Fare <= 12.50\n",
      "|   |   |   |   |   |   |--- class: 1\n",
      "|   |   |   |   |   |--- Fare >  12.50\n",
      "|   |   |   |   |   |   |--- class: 0\n",
      "|   |   |   |   |--- Age >  26.00\n",
      "|   |   |   |   |   |--- Age <= 37.00\n",
      "|   |   |   |   |   |   |--- class: 1\n",
      "|   |   |   |   |   |--- Age >  37.00\n",
      "|   |   |   |   |   |   |--- class: 1\n",
      "|   |   |   |--- Fare >  13.43\n",
      "|   |   |   |   |--- Age <= 26.50\n",
      "|   |   |   |   |   |--- Age <= 25.50\n",
      "|   |   |   |   |   |   |--- class: 1\n",
      "|   |   |   |   |   |--- Age >  25.50\n",
      "|   |   |   |   |   |   |--- class: 0\n",
      "|   |   |   |   |--- Age >  26.50\n",
      "|   |   |   |   |   |--- class: 1\n",
      "|   |--- Pclass >  2.50\n",
      "|   |   |--- Fare <= 22.90\n",
      "|   |   |   |--- Age <= 16.50\n",
      "|   |   |   |   |--- Embarked_S <= 0.50\n",
      "|   |   |   |   |   |--- class: 1\n",
      "|   |   |   |   |--- Embarked_S >  0.50\n",
      "|   |   |   |   |   |--- Fare <= 9.49\n",
      "|   |   |   |   |   |   |--- class: 0\n",
      "|   |   |   |   |   |--- Fare >  9.49\n",
      "|   |   |   |   |   |   |--- class: 1\n",
      "|   |   |   |--- Age >  16.50\n",
      "|   |   |   |   |--- Age <= 36.50\n",
      "|   |   |   |   |   |--- CabinBooked <= 0.50\n",
      "|   |   |   |   |   |   |--- class: 1\n",
      "|   |   |   |   |   |--- CabinBooked >  0.50\n",
      "|   |   |   |   |   |   |--- class: 1\n",
      "|   |   |   |   |--- Age >  36.50\n",
      "|   |   |   |   |   |--- Age <= 55.00\n",
      "|   |   |   |   |   |   |--- class: 0\n",
      "|   |   |   |   |   |--- Age >  55.00\n",
      "|   |   |   |   |   |   |--- class: 1\n",
      "|   |   |--- Fare >  22.90\n",
      "|   |   |   |--- Parch <= 0.50\n",
      "|   |   |   |   |--- class: 1\n",
      "|   |   |   |--- Parch >  0.50\n",
      "|   |   |   |   |--- Fare <= 31.33\n",
      "|   |   |   |   |   |--- class: 0\n",
      "|   |   |   |   |--- Fare >  31.33\n",
      "|   |   |   |   |   |--- Fare <= 32.88\n",
      "|   |   |   |   |   |   |--- class: 1\n",
      "|   |   |   |   |   |--- Fare >  32.88\n",
      "|   |   |   |   |   |   |--- class: 0\n",
      "|--- Sex >  0.50\n",
      "|   |--- Age <= 9.50\n",
      "|   |   |--- SibSp <= 2.50\n",
      "|   |   |   |--- class: 1\n",
      "|   |   |--- SibSp >  2.50\n",
      "|   |   |   |--- Age <= 3.50\n",
      "|   |   |   |   |--- Age <= 2.50\n",
      "|   |   |   |   |   |--- class: 0\n",
      "|   |   |   |   |--- Age >  2.50\n",
      "|   |   |   |   |   |--- class: 1\n",
      "|   |   |   |--- Age >  3.50\n",
      "|   |   |   |   |--- class: 0\n",
      "|   |--- Age >  9.50\n",
      "|   |   |--- Pclass <= 1.50\n",
      "|   |   |   |--- Fare <= 26.14\n",
      "|   |   |   |   |--- class: 0\n",
      "|   |   |   |--- Fare >  26.14\n",
      "|   |   |   |   |--- Fare <= 30.60\n",
      "|   |   |   |   |   |--- Age <= 53.50\n",
      "|   |   |   |   |   |   |--- class: 1\n",
      "|   |   |   |   |   |--- Age >  53.50\n",
      "|   |   |   |   |   |   |--- class: 0\n",
      "|   |   |   |   |--- Fare >  30.60\n",
      "|   |   |   |   |   |--- Fare <= 51.25\n",
      "|   |   |   |   |   |   |--- class: 0\n",
      "|   |   |   |   |   |--- Fare >  51.25\n",
      "|   |   |   |   |   |   |--- class: 0\n",
      "|   |   |--- Pclass >  1.50\n",
      "|   |   |   |--- Fare <= 51.70\n",
      "|   |   |   |   |--- Embarked_C <= 0.50\n",
      "|   |   |   |   |   |--- Age <= 23.50\n",
      "|   |   |   |   |   |   |--- class: 0\n",
      "|   |   |   |   |   |--- Age >  23.50\n",
      "|   |   |   |   |   |   |--- class: 0\n",
      "|   |   |   |   |--- Embarked_C >  0.50\n",
      "|   |   |   |   |   |--- Fare <= 7.23\n",
      "|   |   |   |   |   |   |--- class: 0\n",
      "|   |   |   |   |   |--- Fare >  7.23\n",
      "|   |   |   |   |   |   |--- class: 0\n",
      "|   |   |   |--- Fare >  51.70\n",
      "|   |   |   |   |--- Fare <= 63.02\n",
      "|   |   |   |   |   |--- Age <= 27.00\n",
      "|   |   |   |   |   |   |--- class: 1\n",
      "|   |   |   |   |   |--- Age >  27.00\n",
      "|   |   |   |   |   |   |--- class: 0\n",
      "|   |   |   |   |--- Fare >  63.02\n",
      "|   |   |   |   |   |--- class: 0\n",
      "\n"
     ]
    }
   ],
   "source": [
    "from sklearn import tree\n",
    "\n",
    "text_representation = tree.export_text(dt_model, feature_names=list(titanic_data_raw.columns[1:]))\n",
    "print(text_representation)"
   ]
  },
  {
   "cell_type": "code",
   "execution_count": 51,
   "id": "d8e2205b",
   "metadata": {},
   "outputs": [
    {
     "data": {
      "image/png": "[encoded data removed]",
      "text/plain": [
       "<Figure size 360x504 with 1 Axes>"
      ]
     },
     "metadata": {
      "needs_background": "light"
     },
     "output_type": "display_data"
    }
   ],
   "source": [
    "from sklearn import tree\n",
    "\n",
    "survived_map = {0:'Dead', 1:'Survived'}\n",
    "titanic_data_raw['Survived'].map(survived_map).astype(str).unique()\n",
    "\n",
    "fig = plt.figure(figsize=(5,7))\n",
    "tree.plot_tree(dt_model, feature_names=titanic_data_raw.columns[1:], class_names=titanic_data_raw['Survived'].map(survived_map).astype(str).unique(),  filled=True);"
   ]
  },
  {
   "cell_type": "markdown",
   "id": "b882351f",
   "metadata": {},
   "source": [
    "### 5.3 Random Forest"
   ]
  },
  {
   "cell_type": "code",
   "execution_count": 52,
   "id": "d4dc7307",
   "metadata": {},
   "outputs": [],
   "source": [
    "from sklearn.ensemble import RandomForestClassifier\n",
    "from sklearn import metrics"
   ]
  },
  {
   "cell_type": "code",
   "execution_count": 53,
   "id": "63ecbc15",
   "metadata": {},
   "outputs": [
    {
     "data": {
      "text/html": [
       "<style>#sk-container-id-1 {color: black;background-color: white;}#sk-container-id-1 pre{padding: 0;}#sk-container-id-1 div.sk-toggleable {background-color: white;}#sk-container-id-1 label.sk-toggleable__label {cursor: pointer;display: block;width: 100%;margin-bottom: 0;padding: 0.3em;box-sizing: border-box;text-align: center;}#sk-container-id-1 label.sk-toggleable__label-arrow:before {content: \"▸\";float: left;margin-right: 0.25em;color: #696969;}#sk-container-id-1 label.sk-toggleable__label-arrow:hover:before {color: black;}#sk-container-id-1 div.sk-estimator:hover label.sk-toggleable__label-arrow:before {color: black;}#sk-container-id-1 div.sk-toggleable__content {max-height: 0;max-width: 0;overflow: hidden;text-align: left;background-color: #f0f8ff;}#sk-container-id-1 div.sk-toggleable__content pre {margin: 0.2em;color: black;border-radius: 0.25em;background-color: #f0f8ff;}#sk-container-id-1 input.sk-toggleable__control:checked~div.sk-toggleable__content {max-height: 200px;max-width: 100%;overflow: auto;}#sk-container-id-1 input.sk-toggleable__control:checked~label.sk-toggleable__label-arrow:before {content: \"▾\";}#sk-container-id-1 div.sk-estimator input.sk-toggleable__control:checked~label.sk-toggleable__label {background-color: #d4ebff;}#sk-container-id-1 div.sk-label input.sk-toggleable__control:checked~label.sk-toggleable__label {background-color: #d4ebff;}#sk-container-id-1 input.sk-hidden--visually {border: 0;clip: rect(1px 1px 1px 1px);clip: rect(1px, 1px, 1px, 1px);height: 1px;margin: -1px;overflow: hidden;padding: 0;position: absolute;width: 1px;}#sk-container-id-1 div.sk-estimator {font-family: monospace;background-color: #f0f8ff;border: 1px dotted black;border-radius: 0.25em;box-sizing: border-box;margin-bottom: 0.5em;}#sk-container-id-1 div.sk-estimator:hover {background-color: #d4ebff;}#sk-container-id-1 div.sk-parallel-item::after {content: \"\";width: 100%;border-bottom: 1px solid gray;flex-grow: 1;}#sk-container-id-1 div.sk-label:hover label.sk-toggleable__label {background-color: #d4ebff;}#sk-container-id-1 div.sk-serial::before {content: \"\";position: absolute;border-left: 1px solid gray;box-sizing: border-box;top: 0;bottom: 0;left: 50%;z-index: 0;}#sk-container-id-1 div.sk-serial {display: flex;flex-direction: column;align-items: center;background-color: white;padding-right: 0.2em;padding-left: 0.2em;position: relative;}#sk-container-id-1 div.sk-item {position: relative;z-index: 1;}#sk-container-id-1 div.sk-parallel {display: flex;align-items: stretch;justify-content: center;background-color: white;position: relative;}#sk-container-id-1 div.sk-item::before, #sk-container-id-1 div.sk-parallel-item::before {content: \"\";position: absolute;border-left: 1px solid gray;box-sizing: border-box;top: 0;bottom: 0;left: 50%;z-index: -1;}#sk-container-id-1 div.sk-parallel-item {display: flex;flex-direction: column;z-index: 1;position: relative;background-color: white;}#sk-container-id-1 div.sk-parallel-item:first-child::after {align-self: flex-end;width: 50%;}#sk-container-id-1 div.sk-parallel-item:last-child::after {align-self: flex-start;width: 50%;}#sk-container-id-1 div.sk-parallel-item:only-child::after {width: 0;}#sk-container-id-1 div.sk-dashed-wrapped {border: 1px dashed gray;margin: 0 0.4em 0.5em 0.4em;box-sizing: border-box;padding-bottom: 0.4em;background-color: white;}#sk-container-id-1 div.sk-label label {font-family: monospace;font-weight: bold;display: inline-block;line-height: 1.2em;}#sk-container-id-1 div.sk-label-container {text-align: center;}#sk-container-id-1 div.sk-container {/* jupyter's `normalize.less` sets `[hidden] { display: none; }` but bootstrap.min.css set `[hidden] { display: none !important; }` so we also need the `!important` here to be able to override the default hidden behavior on the sphinx rendered scikit-learn.org. See: https://github.com/scikit-learn/scikit-learn/issues/21755 */display: inline-block !important;position: relative;}#sk-container-id-1 div.sk-text-repr-fallback {display: none;}</style><div id=\"sk-container-id-1\" class=\"sk-top-container\"><div class=\"sk-text-repr-fallback\"><pre>RandomForestClassifier(n_estimators=300, random_state=10)</pre><b>In a Jupyter environment, please rerun this cell to show the HTML representation or trust the notebook. <br />On GitHub, the HTML representation is unable to render, please try loading this page with nbviewer.org.</b></div><div class=\"sk-container\" hidden><div class=\"sk-item\"><div class=\"sk-estimator sk-toggleable\"><input class=\"sk-toggleable__control sk-hidden--visually\" id=\"sk-estimator-id-1\" type=\"checkbox\" checked><label for=\"sk-estimator-id-1\" class=\"sk-toggleable__label sk-toggleable__label-arrow\">RandomForestClassifier</label><div class=\"sk-toggleable__content\"><pre>RandomForestClassifier(n_estimators=300, random_state=10)</pre></div></div></div></div></div>"
      ],
      "text/plain": [
       "RandomForestClassifier(n_estimators=300, random_state=10)"
      ]
     },
     "execution_count": 53,
     "metadata": {},
     "output_type": "execute_result"
    }
   ],
   "source": [
    "rf_model = RandomForestClassifier(random_state=my_random_state, n_estimators=300)\n",
    "rf_model.fit(X_train, y_train)"
   ]
  },
  {
   "cell_type": "code",
   "execution_count": 54,
   "id": "6b3a97a3",
   "metadata": {},
   "outputs": [
    {
     "name": "stdout",
     "output_type": "stream",
     "text": [
      "Accuracy: 80.45%\n",
      "Precision: 73.58%\n",
      "Recall: 76.47%\n",
      "F1: 75.00%\n"
     ]
    }
   ],
   "source": [
    "y_pred = rf_model.predict(X_val)\n",
    "\n",
    "print('Accuracy: {:.2%}'.format(metrics.accuracy_score(y_val, y_pred)))\n",
    "print('Precision: {:.2%}'.format(metrics.precision_score(y_val, y_pred)))\n",
    "print('Recall: {:.2%}'.format(metrics.recall_score(y_val, y_pred)))\n",
    "print('F1: {:.2%}'.format(metrics.f1_score(y_val, y_pred)))"
   ]
  },
  {
   "cell_type": "markdown",
   "id": "78b2c891",
   "metadata": {},
   "source": [
    "### 5.4 Undersampling"
   ]
  },
  {
   "cell_type": "code",
   "execution_count": 55,
   "id": "26b03d95",
   "metadata": {},
   "outputs": [],
   "source": [
    "from imblearn.under_sampling import RandomUnderSampler"
   ]
  },
  {
   "cell_type": "code",
   "execution_count": 56,
   "id": "9c1838a8",
   "metadata": {},
   "outputs": [],
   "source": [
    "undersampler = RandomUnderSampler(sampling_strategy=1, random_state=my_random_state)\n",
    "X_under, y_under = undersampler.fit_resample(X_train, y_train)"
   ]
  },
  {
   "cell_type": "code",
   "execution_count": 57,
   "id": "e2c9d31d",
   "metadata": {},
   "outputs": [
    {
     "data": {
      "text/plain": [
       "0    238\n",
       "1    238\n",
       "Name: Survived, dtype: int64"
      ]
     },
     "execution_count": 57,
     "metadata": {},
     "output_type": "execute_result"
    }
   ],
   "source": [
    "y_under.value_counts()"
   ]
  },
  {
   "cell_type": "code",
   "execution_count": 58,
   "id": "b9b81d8e",
   "metadata": {},
   "outputs": [
    {
     "name": "stdout",
     "output_type": "stream",
     "text": [
      "Accuracy: 72.18%\n",
      "Precision: 60.00%\n",
      "Recall: 82.35%\n",
      "F1: 69.42%\n"
     ]
    }
   ],
   "source": [
    "rf_model = RandomForestClassifier(random_state=my_random_state, n_estimators=300)\n",
    "rf_model.fit(X_under, y_under)\n",
    "\n",
    "y_pred = rf_model.predict(X_val)\n",
    "\n",
    "print('Accuracy: {:.2%}'.format(metrics.accuracy_score(y_val, y_pred)))\n",
    "print('Precision: {:.2%}'.format(metrics.precision_score(y_val, y_pred)))\n",
    "print('Recall: {:.2%}'.format(metrics.recall_score(y_val, y_pred)))\n",
    "print('F1: {:.2%}'.format(metrics.f1_score(y_val, y_pred)))"
   ]
  },
  {
   "cell_type": "markdown",
   "id": "d898042d",
   "metadata": {},
   "source": [
    "### 5.5 Oversampling"
   ]
  },
  {
   "cell_type": "code",
   "execution_count": 59,
   "id": "f84a4a54",
   "metadata": {},
   "outputs": [],
   "source": [
    "from imblearn.over_sampling import RandomOverSampler"
   ]
  },
  {
   "cell_type": "code",
   "execution_count": 60,
   "id": "0b08f5ac",
   "metadata": {},
   "outputs": [],
   "source": [
    "oversampler = RandomOverSampler(sampling_strategy=1, random_state=my_random_state)\n",
    "X_over, y_over = oversampler.fit_resample(X_train, y_train)"
   ]
  },
  {
   "cell_type": "code",
   "execution_count": 61,
   "id": "6b1ad7c1",
   "metadata": {},
   "outputs": [
    {
     "data": {
      "text/plain": [
       "0    384\n",
       "1    384\n",
       "Name: Survived, dtype: int64"
      ]
     },
     "execution_count": 61,
     "metadata": {},
     "output_type": "execute_result"
    }
   ],
   "source": [
    "y_over.value_counts()"
   ]
  },
  {
   "cell_type": "code",
   "execution_count": 62,
   "id": "54dfa611",
   "metadata": {},
   "outputs": [
    {
     "name": "stdout",
     "output_type": "stream",
     "text": [
      "Accuracy: 76.69%\n",
      "Precision: 66.67%\n",
      "Recall: 78.43%\n",
      "F1: 72.07%\n"
     ]
    }
   ],
   "source": [
    "rf_model = RandomForestClassifier(random_state=my_random_state, n_estimators=300)\n",
    "rf_model.fit(X_over, y_over)\n",
    "\n",
    "y_pred = rf_model.predict(X_val)\n",
    "\n",
    "print('Accuracy: {:.2%}'.format(metrics.accuracy_score(y_val, y_pred)))\n",
    "print('Precision: {:.2%}'.format(metrics.precision_score(y_val, y_pred)))\n",
    "print('Recall: {:.2%}'.format(metrics.recall_score(y_val, y_pred)))\n",
    "print('F1: {:.2%}'.format(metrics.f1_score(y_val, y_pred)))"
   ]
  },
  {
   "cell_type": "markdown",
   "id": "d57b29fd",
   "metadata": {},
   "source": [
    "### 5.6 SMOTE"
   ]
  },
  {
   "cell_type": "code",
   "execution_count": 63,
   "id": "674de68f",
   "metadata": {},
   "outputs": [],
   "source": [
    "from imblearn.over_sampling import SMOTENC"
   ]
  },
  {
   "cell_type": "code",
   "execution_count": 64,
   "id": "69261b4a",
   "metadata": {},
   "outputs": [
    {
     "data": {
      "text/html": [
       "<div>\n",
       "<style scoped>\n",
       "    .dataframe tbody tr th:only-of-type {\n",
       "        vertical-align: middle;\n",
       "    }\n",
       "\n",
       "    .dataframe tbody tr th {\n",
       "        vertical-align: top;\n",
       "    }\n",
       "\n",
       "    .dataframe thead th {\n",
       "        text-align: right;\n",
       "    }\n",
       "</style>\n",
       "<table border=\"1\" class=\"dataframe\">\n",
       "  <thead>\n",
       "    <tr style=\"text-align: right;\">\n",
       "      <th></th>\n",
       "      <th>Pclass</th>\n",
       "      <th>Sex</th>\n",
       "      <th>Age</th>\n",
       "      <th>SibSp</th>\n",
       "      <th>Parch</th>\n",
       "      <th>Fare</th>\n",
       "      <th>CabinBooked</th>\n",
       "      <th>Embarked_C</th>\n",
       "      <th>Embarked_Q</th>\n",
       "      <th>Embarked_S</th>\n",
       "    </tr>\n",
       "  </thead>\n",
       "  <tbody>\n",
       "    <tr>\n",
       "      <th>159</th>\n",
       "      <td>3</td>\n",
       "      <td>1.0</td>\n",
       "      <td>29.642093</td>\n",
       "      <td>8</td>\n",
       "      <td>2</td>\n",
       "      <td>69.5500</td>\n",
       "      <td>0</td>\n",
       "      <td>0.0</td>\n",
       "      <td>0.0</td>\n",
       "      <td>1.0</td>\n",
       "    </tr>\n",
       "    <tr>\n",
       "      <th>700</th>\n",
       "      <td>1</td>\n",
       "      <td>0.0</td>\n",
       "      <td>18.000000</td>\n",
       "      <td>1</td>\n",
       "      <td>0</td>\n",
       "      <td>227.5250</td>\n",
       "      <td>1</td>\n",
       "      <td>1.0</td>\n",
       "      <td>0.0</td>\n",
       "      <td>0.0</td>\n",
       "    </tr>\n",
       "    <tr>\n",
       "      <th>740</th>\n",
       "      <td>1</td>\n",
       "      <td>1.0</td>\n",
       "      <td>29.642093</td>\n",
       "      <td>0</td>\n",
       "      <td>0</td>\n",
       "      <td>30.0000</td>\n",
       "      <td>1</td>\n",
       "      <td>0.0</td>\n",
       "      <td>0.0</td>\n",
       "      <td>1.0</td>\n",
       "    </tr>\n",
       "    <tr>\n",
       "      <th>544</th>\n",
       "      <td>1</td>\n",
       "      <td>1.0</td>\n",
       "      <td>50.000000</td>\n",
       "      <td>1</td>\n",
       "      <td>0</td>\n",
       "      <td>106.4250</td>\n",
       "      <td>1</td>\n",
       "      <td>1.0</td>\n",
       "      <td>0.0</td>\n",
       "      <td>0.0</td>\n",
       "    </tr>\n",
       "    <tr>\n",
       "      <th>192</th>\n",
       "      <td>3</td>\n",
       "      <td>0.0</td>\n",
       "      <td>19.000000</td>\n",
       "      <td>1</td>\n",
       "      <td>0</td>\n",
       "      <td>7.8542</td>\n",
       "      <td>0</td>\n",
       "      <td>0.0</td>\n",
       "      <td>0.0</td>\n",
       "      <td>1.0</td>\n",
       "    </tr>\n",
       "    <tr>\n",
       "      <th>...</th>\n",
       "      <td>...</td>\n",
       "      <td>...</td>\n",
       "      <td>...</td>\n",
       "      <td>...</td>\n",
       "      <td>...</td>\n",
       "      <td>...</td>\n",
       "      <td>...</td>\n",
       "      <td>...</td>\n",
       "      <td>...</td>\n",
       "      <td>...</td>\n",
       "    </tr>\n",
       "    <tr>\n",
       "      <th>799</th>\n",
       "      <td>3</td>\n",
       "      <td>0.0</td>\n",
       "      <td>30.000000</td>\n",
       "      <td>1</td>\n",
       "      <td>1</td>\n",
       "      <td>24.1500</td>\n",
       "      <td>0</td>\n",
       "      <td>0.0</td>\n",
       "      <td>0.0</td>\n",
       "      <td>1.0</td>\n",
       "    </tr>\n",
       "    <tr>\n",
       "      <th>228</th>\n",
       "      <td>2</td>\n",
       "      <td>1.0</td>\n",
       "      <td>18.000000</td>\n",
       "      <td>0</td>\n",
       "      <td>0</td>\n",
       "      <td>13.0000</td>\n",
       "      <td>0</td>\n",
       "      <td>0.0</td>\n",
       "      <td>0.0</td>\n",
       "      <td>1.0</td>\n",
       "    </tr>\n",
       "    <tr>\n",
       "      <th>566</th>\n",
       "      <td>3</td>\n",
       "      <td>1.0</td>\n",
       "      <td>19.000000</td>\n",
       "      <td>0</td>\n",
       "      <td>0</td>\n",
       "      <td>7.8958</td>\n",
       "      <td>0</td>\n",
       "      <td>0.0</td>\n",
       "      <td>0.0</td>\n",
       "      <td>1.0</td>\n",
       "    </tr>\n",
       "    <tr>\n",
       "      <th>714</th>\n",
       "      <td>2</td>\n",
       "      <td>1.0</td>\n",
       "      <td>52.000000</td>\n",
       "      <td>0</td>\n",
       "      <td>0</td>\n",
       "      <td>13.0000</td>\n",
       "      <td>0</td>\n",
       "      <td>0.0</td>\n",
       "      <td>0.0</td>\n",
       "      <td>1.0</td>\n",
       "    </tr>\n",
       "    <tr>\n",
       "      <th>37</th>\n",
       "      <td>3</td>\n",
       "      <td>1.0</td>\n",
       "      <td>21.000000</td>\n",
       "      <td>0</td>\n",
       "      <td>0</td>\n",
       "      <td>8.0500</td>\n",
       "      <td>0</td>\n",
       "      <td>0.0</td>\n",
       "      <td>0.0</td>\n",
       "      <td>1.0</td>\n",
       "    </tr>\n",
       "  </tbody>\n",
       "</table>\n",
       "<p>622 rows × 10 columns</p>\n",
       "</div>"
      ],
      "text/plain": [
       "     Pclass  Sex        Age  SibSp  Parch      Fare  CabinBooked  Embarked_C  \\\n",
       "159       3  1.0  29.642093      8      2   69.5500            0         0.0   \n",
       "700       1  0.0  18.000000      1      0  227.5250            1         1.0   \n",
       "740       1  1.0  29.642093      0      0   30.0000            1         0.0   \n",
       "544       1  1.0  50.000000      1      0  106.4250            1         1.0   \n",
       "192       3  0.0  19.000000      1      0    7.8542            0         0.0   \n",
       "..      ...  ...        ...    ...    ...       ...          ...         ...   \n",
       "799       3  0.0  30.000000      1      1   24.1500            0         0.0   \n",
       "228       2  1.0  18.000000      0      0   13.0000            0         0.0   \n",
       "566       3  1.0  19.000000      0      0    7.8958            0         0.0   \n",
       "714       2  1.0  52.000000      0      0   13.0000            0         0.0   \n",
       "37        3  1.0  21.000000      0      0    8.0500            0         0.0   \n",
       "\n",
       "     Embarked_Q  Embarked_S  \n",
       "159         0.0         1.0  \n",
       "700         0.0         0.0  \n",
       "740         0.0         1.0  \n",
       "544         0.0         0.0  \n",
       "192         0.0         1.0  \n",
       "..          ...         ...  \n",
       "799         0.0         1.0  \n",
       "228         0.0         1.0  \n",
       "566         0.0         1.0  \n",
       "714         0.0         1.0  \n",
       "37          0.0         1.0  \n",
       "\n",
       "[622 rows x 10 columns]"
      ]
     },
     "execution_count": 64,
     "metadata": {},
     "output_type": "execute_result"
    }
   ],
   "source": [
    "X_train"
   ]
  },
  {
   "cell_type": "code",
   "execution_count": 65,
   "id": "79d877bb",
   "metadata": {
    "scrolled": true
   },
   "outputs": [
    {
     "data": {
      "text/plain": [
       "0    384\n",
       "1    268\n",
       "Name: Survived, dtype: int64"
      ]
     },
     "execution_count": 65,
     "metadata": {},
     "output_type": "execute_result"
    }
   ],
   "source": [
    "smote = SMOTENC(random_state=my_random_state, sampling_strategy=0.7, categorical_features=[1,6,7,8,9])\n",
    "X_smote, y_smote = smote.fit_resample(X_train, y_train)\n",
    "\n",
    "y_smote.value_counts()"
   ]
  },
  {
   "cell_type": "code",
   "execution_count": 66,
   "id": "d0adcfd9",
   "metadata": {},
   "outputs": [
    {
     "data": {
      "text/plain": [
       "0    268\n",
       "1    268\n",
       "Name: Survived, dtype: int64"
      ]
     },
     "execution_count": 66,
     "metadata": {},
     "output_type": "execute_result"
    }
   ],
   "source": [
    "undersampler = RandomUnderSampler(random_state=my_random_state, sampling_strategy=1)\n",
    "X_smote, y_smote = undersampler.fit_resample(X_smote, y_smote)\n",
    "\n",
    "y_smote.value_counts()"
   ]
  },
  {
   "cell_type": "code",
   "execution_count": 67,
   "id": "a9c557fb",
   "metadata": {},
   "outputs": [
    {
     "name": "stdout",
     "output_type": "stream",
     "text": [
      "Accuracy: 73.68%\n",
      "Precision: 62.12%\n",
      "Recall: 80.39%\n",
      "F1: 70.09%\n"
     ]
    }
   ],
   "source": [
    "rf_model = RandomForestClassifier(random_state=my_random_state, n_estimators=300)\n",
    "rf_model.fit(X_smote, y_smote)\n",
    "\n",
    "y_pred = rf_model.predict(X_val)\n",
    "\n",
    "print('Accuracy: {:.2%}'.format(metrics.accuracy_score(y_val, y_pred)))\n",
    "print('Precision: {:.2%}'.format(metrics.precision_score(y_val, y_pred)))\n",
    "print('Recall: {:.2%}'.format(metrics.recall_score(y_val, y_pred)))\n",
    "print('F1: {:.2%}'.format(metrics.f1_score(y_val, y_pred)))"
   ]
  },
  {
   "cell_type": "markdown",
   "id": "901c5ac5",
   "metadata": {},
   "source": [
    "### 5.7 Results"
   ]
  },
  {
   "cell_type": "code",
   "execution_count": 68,
   "id": "d311016e",
   "metadata": {},
   "outputs": [
    {
     "name": "stdout",
     "output_type": "stream",
     "text": [
      "Accuracy: 80.45%\n",
      "Precision: 73.58%\n",
      "Recall: 76.47%\n",
      "F1: 75.00%\n"
     ]
    }
   ],
   "source": [
    "rf_model_best = RandomForestClassifier(random_state=my_random_state, n_estimators=300)\n",
    "rf_model_best.fit(X_train, y_train)\n",
    "y_pred = rf_model_best.predict(X_val)\n",
    "\n",
    "print('Accuracy: {:.2%}'.format(metrics.accuracy_score(y_val, y_pred)))\n",
    "print('Precision: {:.2%}'.format(metrics.precision_score(y_val, y_pred)))\n",
    "print('Recall: {:.2%}'.format(metrics.recall_score(y_val, y_pred)))\n",
    "print('F1: {:.2%}'.format(metrics.f1_score(y_val, y_pred)))"
   ]
  },
  {
   "cell_type": "code",
   "execution_count": 69,
   "id": "c7950b6f",
   "metadata": {},
   "outputs": [
    {
     "name": "stdout",
     "output_type": "stream",
     "text": [
      "Accuracy: 72.18%\n",
      "Precision: 60.00%\n",
      "Recall: 82.35%\n",
      "F1: 69.42%\n"
     ]
    }
   ],
   "source": [
    "rf_model = RandomForestClassifier(random_state=my_random_state, n_estimators=300)\n",
    "rf_model.fit(X_under, y_under)\n",
    "\n",
    "y_pred = rf_model.predict(X_val)\n",
    "\n",
    "print('Accuracy: {:.2%}'.format(metrics.accuracy_score(y_val, y_pred)))\n",
    "print('Precision: {:.2%}'.format(metrics.precision_score(y_val, y_pred)))\n",
    "print('Recall: {:.2%}'.format(metrics.recall_score(y_val, y_pred)))\n",
    "print('F1: {:.2%}'.format(metrics.f1_score(y_val, y_pred)))"
   ]
  },
  {
   "cell_type": "code",
   "execution_count": 70,
   "id": "0de9366e",
   "metadata": {},
   "outputs": [
    {
     "name": "stdout",
     "output_type": "stream",
     "text": [
      "Accuracy: 76.69%\n",
      "Precision: 66.67%\n",
      "Recall: 78.43%\n",
      "F1: 72.07%\n"
     ]
    }
   ],
   "source": [
    "rf_model = RandomForestClassifier(random_state=my_random_state, n_estimators=300)\n",
    "rf_model.fit(X_over, y_over)\n",
    "\n",
    "y_pred = rf_model.predict(X_val)\n",
    "\n",
    "print('Accuracy: {:.2%}'.format(metrics.accuracy_score(y_val, y_pred)))\n",
    "print('Precision: {:.2%}'.format(metrics.precision_score(y_val, y_pred)))\n",
    "print('Recall: {:.2%}'.format(metrics.recall_score(y_val, y_pred)))\n",
    "print('F1: {:.2%}'.format(metrics.f1_score(y_val, y_pred)))"
   ]
  },
  {
   "cell_type": "code",
   "execution_count": 71,
   "id": "e020cd4d",
   "metadata": {
    "scrolled": true
   },
   "outputs": [
    {
     "name": "stdout",
     "output_type": "stream",
     "text": [
      "Accuracy: 73.68%\n",
      "Precision: 62.12%\n",
      "Recall: 80.39%\n",
      "F1: 70.09%\n"
     ]
    }
   ],
   "source": [
    "rf_model = RandomForestClassifier(random_state=my_random_state, n_estimators=300)\n",
    "rf_model.fit(X_smote, y_smote)\n",
    "\n",
    "y_pred = rf_model.predict(X_val)\n",
    "\n",
    "print('Accuracy: {:.2%}'.format(metrics.accuracy_score(y_val, y_pred)))\n",
    "print('Precision: {:.2%}'.format(metrics.precision_score(y_val, y_pred)))\n",
    "print('Recall: {:.2%}'.format(metrics.recall_score(y_val, y_pred)))\n",
    "print('F1: {:.2%}'.format(metrics.f1_score(y_val, y_pred)))"
   ]
  },
  {
   "cell_type": "markdown",
   "id": "b67e87aa",
   "metadata": {},
   "source": [
    "### 5.8 Feature Importance"
   ]
  },
  {
   "cell_type": "code",
   "execution_count": 72,
   "id": "5d22cc95",
   "metadata": {
    "scrolled": true
   },
   "outputs": [
    {
     "data": {
      "text/plain": [
       "array([0.08380451, 0.26610399, 0.24797855, 0.04658055, 0.03998947,\n",
       "       0.23743397, 0.04272642, 0.0148332 , 0.00717394, 0.01337541])"
      ]
     },
     "execution_count": 72,
     "metadata": {},
     "output_type": "execute_result"
    }
   ],
   "source": [
    "rf_model_best.feature_importances_"
   ]
  },
  {
   "cell_type": "code",
   "execution_count": 73,
   "id": "f6c377e5",
   "metadata": {},
   "outputs": [
    {
     "data": {
      "text/plain": [
       "Sex            0.266104\n",
       "Age            0.247979\n",
       "Fare           0.237434\n",
       "Pclass         0.083805\n",
       "SibSp          0.046581\n",
       "CabinBooked    0.042726\n",
       "Parch          0.039989\n",
       "Embarked_C     0.014833\n",
       "Embarked_S     0.013375\n",
       "Embarked_Q     0.007174\n",
       "dtype: float64"
      ]
     },
     "execution_count": 73,
     "metadata": {},
     "output_type": "execute_result"
    }
   ],
   "source": [
    "feature_importances = pd.Series(rf_model_best.feature_importances_, index=titanic_data_raw.columns[1:])\n",
    "feature_importances.sort_values(ascending=False)"
   ]
  },
  {
   "cell_type": "code",
   "execution_count": 74,
   "id": "04d73562",
   "metadata": {
    "scrolled": true
   },
   "outputs": [
    {
     "data": {
      "text/plain": [
       "<AxesSubplot:>"
      ]
     },
     "execution_count": 74,
     "metadata": {},
     "output_type": "execute_result"
    },
    {
     "data": {
      "image/png": "[encoded data removed]",
      "text/plain": [
       "<Figure size 432x288 with 1 Axes>"
      ]
     },
     "metadata": {
      "needs_background": "light"
     },
     "output_type": "display_data"
    }
   ],
   "source": [
    "import matplotlib.pyplot as plt\n",
    "import numpy as np\n",
    "\n",
    "feature_importances.nlargest(5).plot(kind='barh')"
   ]
  },
  {
   "cell_type": "markdown",
   "id": "40ba6384",
   "metadata": {},
   "source": [
    "## 6. Vorhersagen"
   ]
  },
  {
   "cell_type": "markdown",
   "id": "b0bf7c62",
   "metadata": {},
   "source": [
    "<img src=\"input/Titanic_rose.png\" width=\"300\" align=\"left\"/>"
   ]
  },
  {
   "cell_type": "code",
   "execution_count": 75,
   "id": "ee7f66dc",
   "metadata": {},
   "outputs": [
    {
     "data": {
      "text/plain": [
       "array([1, 0])"
      ]
     },
     "execution_count": 75,
     "metadata": {},
     "output_type": "execute_result"
    }
   ],
   "source": [
    "# initialize list elements\n",
    "data = [[1,0,17,1,1,150,1, 0,0,1] #Rose\n",
    "        ,[3,1,20,0,0,25,0, 0,0,1]] #Jack\n",
    "  \n",
    "# Create the pandas DataFrame with column name is provided explicitly\n",
    "df = pd.DataFrame(data, columns=['Pclass', 'Sex', 'Age', 'SibSp', 'Parch', 'Fare', 'CabinBooked', 'Embarked_C', 'Embarked_Q', 'Embarked_S'])\n",
    "\n",
    "y_pred = rf_model.predict(df)\n",
    "y_pred"
   ]
  },
  {
   "cell_type": "code",
   "execution_count": 76,
   "id": "186e56c3",
   "metadata": {},
   "outputs": [
    {
     "data": {
      "text/plain": [
       "array([1, 1])"
      ]
     },
     "execution_count": 76,
     "metadata": {},
     "output_type": "execute_result"
    }
   ],
   "source": [
    "# initialize list elements\n",
    "data = [[2,0,19,0,0, 80,0, 1,0,0] #Anna\n",
    "        ,[1,0,19,0,0,100, 1, 1,0,0]]   #Sheila\n",
    "  \n",
    "# Create the pandas DataFrame with column name is provided explicitly\n",
    "df = pd.DataFrame(data, columns=['Pclass', 'Sex', 'Age', 'SibSp', 'Parch', 'Fare', 'CabinBooked', 'Embarked_C', 'Embarked_Q', 'Embarked_S'])\n",
    "  \n",
    "y_pred = rf_model.predict(df)\n",
    "y_pred"
   ]
  }
 ],
 "metadata": {
  "kernelspec": {
   "display_name": "Python 3 (ipykernel)",
   "language": "python",
   "name": "python3"
  },
  "language_info": {
   "codemirror_mode": {
    "name": "ipython",
    "version": 3
   },
   "file_extension": ".py",
   "mimetype": "text/x-python",
   "name": "python",
   "nbconvert_exporter": "python",
   "pygments_lexer": "ipython3",
   "version": "3.8.16"
  }
 },
 "nbformat": 4,
 "nbformat_minor": 5
}
